{
 "cells": [
  {
   "cell_type": "markdown",
   "metadata": {
    "nbpresent": {
     "id": "65e0fe36-ce8e-42ab-a616-b1607feeec1b"
    }
   },
   "source": [
    "# Air Pollution Derivatives: Proof of Concept\n",
    "> <span style=\"color:gray\">\n",
    "Created by Anders D. Sleire ([anders.sleire@uib.no](mailto:anders.sleire@uib.no))\n",
    "</span>"
   ]
  },
  {
   "cell_type": "markdown",
   "metadata": {
    "nbpresent": {
     "id": "c91b611b-4492-4357-8b76-87633974cdf6"
    }
   },
   "source": [
    "<img src=\"https://www.populationeducation.org/sites/default/files/people_riding_bikes_in_smog.jpg\",width=600,height=600>"
   ]
  },
  {
   "cell_type": "markdown",
   "metadata": {
    "nbpresent": {
     "id": "0c5d62a4-8d16-4ae3-8974-056fdb690a31"
    }
   },
   "source": [
    "## Motivation"
   ]
  },
  {
   "cell_type": "markdown",
   "metadata": {
    "nbpresent": {
     "id": "e58284df-7e8f-41ea-b77e-1c38c6fb1166"
    }
   },
   "source": [
    "Millions of people who live in urban areas are victims of severe air pollution. The degree of contamination is determined by measuring the so called criteria air pollutants (see for example the [US Environmental Protection Agency](https://www.epa.gov/criteria-air-pollutants)):\n",
    "\n",
    "- Ground-level Ozone ($O_3$)\n",
    "- Particulate Matter ($PM_{2.5}$ and $PM_{10}$)\n",
    "- Carbon Monoxide ($CO$)\n",
    "- Lead ($Pb$)\n",
    "- Sulfur Dioxide ($SO_2$)\n",
    "- Nitrogen Dioxide ($NO_2$)\n",
    "\n",
    "The primary concerns in this context are the population health effects, but when ambient air pollution reach extreme levels, the day-to-day activity in the city is directly affected. This may also lead to significant financial losses in the short run. We already use derivatives contracts such as futures and options for risk management in financial markets. There is also a well functioning market for managing risk arising from non-financial sources, such as weather. Temperature based weather derivatives have been used by the energy industry, the travel industry, and in agriculture for decades.  \n",
    "\n",
    "**Can we introduce a new class of derivatives to manage risk arising from extreme air pollution? How can these instruments be used?** "
   ]
  },
  {
   "cell_type": "markdown",
   "metadata": {
    "nbpresent": {
     "id": "8ec0a825-77d1-4b90-a597-f81591252d5c"
    }
   },
   "source": [
    "## Measuring and communicating degree of air pollution - Air Quality Index (AQI)"
   ]
  },
  {
   "cell_type": "markdown",
   "metadata": {
    "nbpresent": {
     "id": "215a6e2e-eafd-4cf4-8b26-a9c6f51ad415"
    }
   },
   "source": [
    "The criteria air pollutants are measured on the scales micrograms per cubic meter ($\\mu g /m^3$), parts per million (ppm) and parts per billion (ppb). Countries have differents guidelines and tresholds, but the US Environmental Protection Agency **Air Quality Index (AQI)** is well know globally. The particulate matter pollutants $PM_{2.5}$ and $PM_{10}$ are some of the most severe treaths to human health, we will focus on these below."
   ]
  },
  {
   "cell_type": "markdown",
   "metadata": {},
   "source": [
    "<table class=\"wikitable\" style=\"text-align:left;\">\n",
    "<tbody><tr>\n",
    "<td><b>O<sub>3</sub> (ppb)</b></td>\n",
    "<td><b>O<sub>3</sub> (ppb)</b></td>\n",
    "<td><b>PM<sub>2.5</sub> (µg/m<sup>3</sup>)</b></td>\n",
    "<td><b>PM<sub>10</sub> (µg/m<sup>3</sup>)</b></td>\n",
    "<td><b>CO (ppm)</b></td>\n",
    "<td><b>SO<sub>2</sub> (ppb)</b></td>\n",
    "<td><b>NO<sub>2</sub> (ppb)</b></td>\n",
    "<td><b>AQI</b></td>\n",
    "<td><b>AQI</b></td>\n",
    "</tr>\n",
    "<tr>\n",
    "<td><i>C<sub>low</sub></i> - <i>C<sub>high</sub> (avg)</i></td>\n",
    "<td><i>C<sub>low</sub></i> - <i>C<sub>high</sub> (avg)</i></td>\n",
    "<td><i>C<sub>low</sub></i>- <i>C<sub>high</sub> (avg)</i></td>\n",
    "<td><i>C<sub>low</sub></i> - <i>C<sub>high</sub> (avg)</i></td>\n",
    "<td><i>C<sub>low</sub></i> - <i>C<sub>high</sub> (avg)</i></td>\n",
    "<td><i>C<sub>low</sub></i> - <i>C<sub>high</sub> (avg)</i></td>\n",
    "<td><i>C<sub>low</sub></i> - <i>C<sub>high</sub> (avg)</i></td>\n",
    "<td><i>I<sub>low</sub></i> - <i>I<sub>high</sub></i></td>\n",
    "<td><b>Category</b></td>\n",
    "</tr>\n",
    "<tr>\n",
    "<td>0-54 (8-hr)</td>\n",
    "<td>-</td>\n",
    "<td>0.0-12.0 (24-hr)</td>\n",
    "<td>0-54 (24-hr)</td>\n",
    "<td>0.0-4.4 (8-hr)</td>\n",
    "<td>0-35 (1-hr)</td>\n",
    "<td>0-53 (1-hr)</td>\n",
    "<td>0-50</td>\n",
    "<td style=\"background:#00e400;\">Good</td>\n",
    "</tr>\n",
    "<tr>\n",
    "<td>55-70 (8-hr)</td>\n",
    "<td>-</td>\n",
    "<td>12.1-35.4 (24-hr)</td>\n",
    "<td>55-154 (24-hr)</td>\n",
    "<td>4.5-9.4 (8-hr)</td>\n",
    "<td>36-75 (1-hr)</td>\n",
    "<td>54-100 (1-hr)</td>\n",
    "<td>51-100</td>\n",
    "<td style=\"background:#ff0;\">Moderate</td>\n",
    "</tr>\n",
    "<tr>\n",
    "<td>71-85 (8-hr)</td>\n",
    "<td>125-164 (1-hr)</td>\n",
    "<td>35.5-55.4 (24-hr)</td>\n",
    "<td>155-254 (24-hr)</td>\n",
    "<td>9.5-12.4 (8-hr)</td>\n",
    "<td>76-185 (1-hr)</td>\n",
    "<td>101-360 (1-hr)</td>\n",
    "<td>101-150</td>\n",
    "<td style=\"background:#ff7e00;\">Unhealthy for Sensitive Groups</td>\n",
    "</tr>\n",
    "<tr>\n",
    "<td>86-105 (8-hr)</td>\n",
    "<td>165-204 (1-hr)</td>\n",
    "<td>55.5-150.4 (24-hr)</td>\n",
    "<td>255-354 (24-hr)</td>\n",
    "<td>12.5-15.4 (8-hr)</td>\n",
    "<td>186-304 (1-hr)</td>\n",
    "<td>361-649 (1-hr)</td>\n",
    "<td>151-200</td>\n",
    "<td style=\"background:#f00; color:#fff;\">Unhealthy</td>\n",
    "</tr>\n",
    "<tr>\n",
    "<td>106-200 (8-hr)</td>\n",
    "<td>205-404 (1-hr)</td>\n",
    "<td>150.5-250.4 (24-hr)</td>\n",
    "<td>355-424 (24-hr)</td>\n",
    "<td>15.5-30.4 (8-hr)</td>\n",
    "<td>305-604 (24-hr)</td>\n",
    "<td>650-1249 (1-hr)</td>\n",
    "<td>201-300</td>\n",
    "<td style=\"background:#99004c; color:#fff;\">Very Unhealthy</td>\n",
    "</tr>\n",
    "<tr>\n",
    "<td>-</td>\n",
    "<td>405-504 (1-hr)</td>\n",
    "<td>250.5-350.4 (24-hr)</td>\n",
    "<td>425-504 (24-hr)</td>\n",
    "<td>30.5-40.4 (8-hr)</td>\n",
    "<td>605-804 (24-hr)</td>\n",
    "<td>1250-1649 (1-hr)</td>\n",
    "<td>301-400</td>\n",
    "<td style=\"background:#7e0023; color:#fff;\" rowspan=\"2\">Hazardous</td>\n",
    "</tr>\n",
    "<tr>\n",
    "<td>-</td>\n",
    "<td>505-604 (1-hr)</td>\n",
    "<td>350.5-500.4 (24-hr)</td>\n",
    "<td>505-604 (24-hr)</td>\n",
    "<td>40.5-50.4 (8-hr)</td>\n",
    "<td>805-1004 (24-hr)</td>\n",
    "<td>1650-2049 (1-hr)</td>\n",
    "<td>401-500</td>\n",
    "</tr>\n",
    "</tbody></table>"
   ]
  },
  {
   "cell_type": "markdown",
   "metadata": {
    "nbpresent": {
     "id": "107c6d16-626b-41a2-bc13-498b16f46a1f"
    }
   },
   "source": [
    "https://en.wikipedia.org/wiki/Air_quality_index"
   ]
  },
  {
   "cell_type": "markdown",
   "metadata": {
    "nbpresent": {
     "id": "ac4ff4ad-eed1-468e-92e4-70f012ef1b9d"
    }
   },
   "source": [
    "## Air pollution derivatives"
   ]
  },
  {
   "cell_type": "markdown",
   "metadata": {
    "nbpresent": {
     "id": "2979d7bb-ffde-4bb9-af1e-a6349c557179"
    }
   },
   "source": [
    "This section describes how we can define index futures and european options on these futures based on the publicly \n",
    "available AQI data"
   ]
  },
  {
   "cell_type": "markdown",
   "metadata": {
    "nbpresent": {
     "id": "101e6ab1-b9a9-437d-b2cb-87eaba580801"
    }
   },
   "source": [
    "### Traditional weather derivatives"
   ]
  },
  {
   "cell_type": "markdown",
   "metadata": {
    "nbpresent": {
     "id": "cf66c9df-d304-48ef-8744-7eee14404a99"
    }
   },
   "source": [
    "[The CME weather derivatives market](http://www.cmegroup.com/trading/weather/) offers trade in futures contracts based on temperature indices, snow fall, percipitation, and more. The contracts are written for locations mainly in North America, Australia, Japan, and Europe. CME also lists plain vanilla European call and put options on these futures. We will have a closer look at one of the temperature based derivatives, as this will be used as a template for the air pollution contracts.  \n",
    "\n",
    "For a given time period $[T_1, T_2]$, a cooling-degree index (CDD) is calculated to measure the need for cooling. The CDD is the cumulative amount of degrees above a pre specified base level:"
   ]
  },
  {
   "cell_type": "markdown",
   "metadata": {
    "nbpresent": {
     "id": "9cbb1384-e8c7-434d-8195-729f6b2b5959"
    }
   },
   "source": [
    "\\begin{equation}\n",
    "CDD(T_1, T_2) = \\sum_{t=T_1}^{T_2} max\\{T_t^* - Base,0\\}\n",
    "\\end{equation}"
   ]
  },
  {
   "cell_type": "markdown",
   "metadata": {
    "nbpresent": {
     "id": "5137462b-d451-4f58-83da-acf79c27c3db"
    }
   },
   "source": [
    "where $T_t^*$ is the mean temperature for day $t$, and the base level is typically $18^o C$/ $65^o F$. By taking a position in a CDD future, the holder of the contract swaps a fixed level of the index against the floating CDD. The change in market value for the position will be proportional to the development in the CDD, scaled up by the contract unit size. For example will a unit size of USD 20 per contract change the vale of the future by USD 20 for every unit change in the CDD index. The contracts can cover periods such as weeks,  months or seasons."
   ]
  },
  {
   "cell_type": "markdown",
   "metadata": {
    "nbpresent": {
     "id": "955ed1d7-c996-431d-997d-511397ff6496"
    }
   },
   "source": [
    "### Introducing the Pollution Alert Score (PAS) and PAS index futures"
   ]
  },
  {
   "cell_type": "markdown",
   "metadata": {
    "nbpresent": {
     "id": "b0f89443-3151-4d92-9303-800bd9bffd1a"
    }
   },
   "source": [
    "When we evaluate an air quality measurement, we check if a criteria air pollutant is registered above a pre specified limit, such as the \"Hazardous\" 300 level on the AQI scale. If this is the case, we calculate the severity of the breach and assign a Pollution Alert Score (PAS). For the time period $[T_1, T_2]$, the cumulative Pollution Alert Score is given by:"
   ]
  },
  {
   "cell_type": "markdown",
   "metadata": {
    "nbpresent": {
     "id": "954e4f2c-2998-4967-8b97-5226a4c05558"
    }
   },
   "source": [
    "\\begin{equation}\n",
    "PAS(T_1, T_2) = \\sum_{t=T_1}^{T_2} max\\{AQI_t - 300,0\\}\n",
    "\\end{equation}\n",
    "\n",
    "The period may be split up in hourly or daily measurements. We use daily data below, such that $AQI_t$ is the mean daily value of the index. A PAS 300 Index Futures contract can now be specified with the following information, using PM2.5 levels in Beijing as an example:"
   ]
  },
  {
   "cell_type": "markdown",
   "metadata": {
    "nbpresent": {
     "id": "35971e27-e09e-4be3-9cce-256b5e0f3a97"
    }
   },
   "source": [
    "| Contract specifications   |                                    |\n",
    "|---------------------------|------------------------------------|\n",
    "| Location                  | Beijing                            |\n",
    "| Pollutant                 | PM2.5                              |\n",
    "| Contract type             | PAS 300 Index Future               |\n",
    "| Period                    | February-18                        |\n",
    "| Contract unit             | USD 1 times the PAS 300  Index       |\n",
    "| Minimum price fluctuation | 1 index point (= USD 1 per contract) |"
   ]
  },
  {
   "cell_type": "markdown",
   "metadata": {
    "nbpresent": {
     "id": "f25071d2-055a-495c-a15d-2e1a14cc82f8"
    }
   },
   "source": [
    "## Air quality data"
   ]
  },
  {
   "cell_type": "code",
   "execution_count": 2,
   "metadata": {
    "nbpresent": {
     "id": "9684dc6c-1fa4-42f9-9dd8-af2466cc8e0f"
    }
   },
   "outputs": [],
   "source": [
    "# load R-packages and source functions in aqi_utils.R\n",
    "library(data.table)\n",
    "library(ggplot2)\n",
    "library(gridExtra)\n",
    "library(latex2exp)\n",
    "library(sde)\n",
    "source('aqi_utils.R')\n",
    "options(repr.plot.width = 6, repr.plot.height = 3)"
   ]
  },
  {
   "cell_type": "code",
   "execution_count": 3,
   "metadata": {},
   "outputs": [],
   "source": [
    "# files with data from Beijing, Chengdu, Guangzhou, Shanghai and Shenyang\n",
    "bei <- c('Beijing_2017_HourlyPM25_created20170803.csv', 'Beijing_2016_HourlyPM25_created20170201.csv',\n",
    "         'Beijing_2015_HourlyPM25_created20160201.csv', 'Beijing_2014_HourlyPM25_created20150203.csv',\n",
    "         'Beijing_2013_HourlyPM2.5_created20140325.csv', 'Beijing_2012_HourlyPM2.5_created20140325.csv',\n",
    "         'Beijing_2011_HourlyPM25_created20140709.csv', 'Beijing_2010_HourlyPM25_created20140709.csv',\n",
    "         'Beijing_2009_HourlyPM25_created20140709.csv', 'Beijing_2008_HourlyPM2.5_created20140325.csv')\n",
    "\n",
    "che <- c('Chengdu_2017_HourlyPM25_created20170803.csv', 'Chengdu_2016_HourlyPM25_created20170201.csv',\n",
    "         'Chengdu_2015_HourlyPM25_created20160201.csv', 'Chengdu_2014_HourlyPM25_created20150203.csv',\n",
    "         'Chengdu_2013_HourlyPM25_created20140423.csv', 'Chengdu_2012_HourlyPM25_created20140423.csv')\n",
    "\n",
    "gua <- c('Guangzhou_2017_HourlyPM25_created20170803.csv', 'Guangzhou_2016_HourlyPM25_created20170201.csv',\n",
    "         'Guangzhou_2015_HourlyPM25_created20160201.csv', 'Guangzhou_2014_HourlyPM25_created20150203.csv',\n",
    "         'Guangzhou_2013_HourlyPM25_created20140423.csv', 'Guangzhou_2012_HourlyPM25_created20140423.csv',\n",
    "         'Guangzhou_2011_HourlyPM25_created20140423.csv')\n",
    "\n",
    "sha <- c('Shanghai_2017_HourlyPM25_created20170803.csv', 'Shanghai_2016_HourlyPM25_created20170201.csv',\n",
    "         'Shanghai_2015_HourlyPM25_created20160201.csv', 'Shanghai_2014_HourlyPM25_created20150203.csv',\n",
    "         'Shanghai_2013_HourlyPM25_created20140423.csv', 'Shanghai_2012_HourlyPM25_created20140423.csv',\n",
    "         'Shanghai_2011_HourlyPM25_created20140423.csv')\n",
    "\n",
    "she <- c('Shenyang_2017_HourlyPM25_created20170803.csv', 'Shenyang_2016_HourlyPM25_created20170201.csv',\n",
    "         'Shenyang_2015_HourlyPM25_created20160201.csv', 'Shenyang_2014_HourlyPM25_created20150203.csv',\n",
    "         'Shenyang_2013_HourlyPM25_created20140423.csv')"
   ]
  },
  {
   "cell_type": "code",
   "execution_count": 4,
   "metadata": {},
   "outputs": [],
   "source": [
    "# select 2009-2017 and order by year\n",
    "bei <- bei[1:9]\n",
    "bei <- sort(bei)"
   ]
  },
  {
   "cell_type": "code",
   "execution_count": 6,
   "metadata": {},
   "outputs": [],
   "source": [
    "# import beijing data for 2010-2017 with the sourced function get_stateair_data\n",
    "dat <- get_stateair_data(files_vec = bei)[[2]]"
   ]
  },
  {
   "cell_type": "code",
   "execution_count": 8,
   "metadata": {},
   "outputs": [
    {
     "data": {
      "text/html": [
       "<table>\n",
       "<thead><tr><th scope=col>Date</th><th scope=col>Value</th><th scope=col>Value_NA</th><th scope=col>MaxVal</th><th scope=col>MinVal</th><th scope=col>Year</th><th scope=col>Month</th><th scope=col>Value_HL</th><th scope=col>d</th><th scope=col>LogValue</th></tr></thead>\n",
       "<tbody>\n",
       "\t<tr><td>2009-03-01</td><td>155.41319 </td><td>      NaN </td><td>158.2500  </td><td>154.3333  </td><td>2009      </td><td>3         </td><td>156.2917  </td><td>1         </td><td>5.046087  </td></tr>\n",
       "\t<tr><td>2009-03-02</td><td>154.33333 </td><td>      NaN </td><td>154.3333  </td><td>154.3333  </td><td>2009      </td><td>3         </td><td>154.3333  </td><td>2         </td><td>5.039115  </td></tr>\n",
       "\t<tr><td>2009-03-03</td><td>176.48214 </td><td>212.44444 </td><td>267.0000  </td><td>145.0000  </td><td>2009      </td><td>3         </td><td>206.0000  </td><td>3         </td><td>5.173220  </td></tr>\n",
       "\t<tr><td>2009-03-04</td><td>266.75000 </td><td>266.75000 </td><td>390.0000  </td><td>174.0000  </td><td>2009      </td><td>3         </td><td>282.0000  </td><td>4         </td><td>5.586312  </td></tr>\n",
       "\t<tr><td>2009-03-05</td><td> 75.16667 </td><td> 75.16667 </td><td>202.0000  </td><td>  9.0000  </td><td>2009      </td><td>3         </td><td>105.5000  </td><td>5         </td><td>4.319708  </td></tr>\n",
       "\t<tr><td>2009-03-06</td><td> 21.83333 </td><td> 21.83333 </td><td> 61.0000  </td><td>  6.0000  </td><td>2009      </td><td>3         </td><td> 33.5000  </td><td>6         </td><td>3.083438  </td></tr>\n",
       "</tbody>\n",
       "</table>\n"
      ],
      "text/latex": [
       "\\begin{tabular}{r|llllllllll}\n",
       " Date & Value & Value\\_NA & MaxVal & MinVal & Year & Month & Value\\_HL & d & LogValue\\\\\n",
       "\\hline\n",
       "\t 2009-03-01 & 155.41319  &       NaN  & 158.2500   & 154.3333   & 2009       & 3          & 156.2917   & 1          & 5.046087  \\\\\n",
       "\t 2009-03-02 & 154.33333  &       NaN  & 154.3333   & 154.3333   & 2009       & 3          & 154.3333   & 2          & 5.039115  \\\\\n",
       "\t 2009-03-03 & 176.48214  & 212.44444  & 267.0000   & 145.0000   & 2009       & 3          & 206.0000   & 3          & 5.173220  \\\\\n",
       "\t 2009-03-04 & 266.75000  & 266.75000  & 390.0000   & 174.0000   & 2009       & 3          & 282.0000   & 4          & 5.586312  \\\\\n",
       "\t 2009-03-05 &  75.16667  &  75.16667  & 202.0000   &   9.0000   & 2009       & 3          & 105.5000   & 5          & 4.319708  \\\\\n",
       "\t 2009-03-06 &  21.83333  &  21.83333  &  61.0000   &   6.0000   & 2009       & 3          &  33.5000   & 6          & 3.083438  \\\\\n",
       "\\end{tabular}\n"
      ],
      "text/plain": [
       "  Date       Value     Value_NA  MaxVal   MinVal   Year Month Value_HL d\n",
       "1 2009-03-01 155.41319       NaN 158.2500 154.3333 2009 3     156.2917 1\n",
       "2 2009-03-02 154.33333       NaN 154.3333 154.3333 2009 3     154.3333 2\n",
       "3 2009-03-03 176.48214 212.44444 267.0000 145.0000 2009 3     206.0000 3\n",
       "4 2009-03-04 266.75000 266.75000 390.0000 174.0000 2009 3     282.0000 4\n",
       "5 2009-03-05  75.16667  75.16667 202.0000   9.0000 2009 3     105.5000 5\n",
       "6 2009-03-06  21.83333  21.83333  61.0000   6.0000 2009 3      33.5000 6\n",
       "  LogValue\n",
       "1 5.046087\n",
       "2 5.039115\n",
       "3 5.173220\n",
       "4 5.586312\n",
       "5 4.319708\n",
       "6 3.083438"
      ]
     },
     "metadata": {},
     "output_type": "display_data"
    }
   ],
   "source": [
    "# add day number (d) and subset to remove missing values in Q1 2009\n",
    "dat$d <- seq_along(dat$Date)\n",
    "dat <- subset(dat, Date >= as.Date('2009-03-01'))\n",
    "# concentration values always positive -> model log value\n",
    "dat$LogValue <- log(dat$Value)\n",
    "head(dat)"
   ]
  },
  {
   "cell_type": "markdown",
   "metadata": {},
   "source": [
    "Below, we will model both the PM2.5 measurements and related AQI scores with an Orstein-Uhlenbeck model with a seasonal\n",
    "deterministic component. Lets us first fit a basic seasonal model to the PM2.5 data   \n",
    "\n",
    "$P_t^m = A + B t + C \\ sin\\big(\\frac{2\\pi}{365}t + D\\big)$"
   ]
  },
  {
   "cell_type": "code",
   "execution_count": 9,
   "metadata": {},
   "outputs": [
    {
     "data": {
      "text/plain": [
       "\n",
       "Call:\n",
       "lm(formula = dat$Value ~ dat$d + sin(2 * pi * dat$d/365) + cos(2 * \n",
       "    pi * dat$d/365))\n",
       "\n",
       "Residuals:\n",
       "    Min      1Q  Median      3Q     Max \n",
       "-110.05  -51.79  -14.57   31.95  445.89 \n",
       "\n",
       "Coefficients:\n",
       "                          Estimate Std. Error t value Pr(>|t|)    \n",
       "(Intercept)             109.244911   2.680356  40.758  < 2e-16 ***\n",
       "dat$d                    -0.010967   0.001525  -7.193 7.96e-13 ***\n",
       "sin(2 * pi * dat$d/365) -18.100047   1.886870  -9.593  < 2e-16 ***\n",
       "cos(2 * pi * dat$d/365)   7.400907   1.903437   3.888 0.000103 ***\n",
       "---\n",
       "Signif. codes:  0 '***' 0.001 '**' 0.01 '*' 0.05 '.' 0.1 ' ' 1\n",
       "\n",
       "Residual standard error: 73.85 on 3040 degrees of freedom\n",
       "Multiple R-squared:  0.048,\tAdjusted R-squared:  0.04706 \n",
       "F-statistic: 51.09 on 3 and 3040 DF,  p-value: < 2.2e-16\n"
      ]
     },
     "metadata": {},
     "output_type": "display_data"
    }
   ],
   "source": [
    "# fit sinusoidal trend function\n",
    "season <- lm(dat$Value ~ dat$d + sin( 2*pi*dat$d / 365 ) + cos( 2*pi*dat$d / 365 ))\n",
    "summary(season)"
   ]
  },
  {
   "cell_type": "code",
   "execution_count": 10,
   "metadata": {},
   "outputs": [
    {
     "data": {
      "text/plain": [
       "\n",
       "Call:\n",
       "lm(formula = dat$LogValue ~ dat$d + sin(2 * pi * dat$d/365) + \n",
       "    cos(2 * pi * dat$d/365))\n",
       "\n",
       "Residuals:\n",
       "    Min      1Q  Median      3Q     Max \n",
       "-3.2595 -0.5450  0.0896  0.6095  2.1671 \n",
       "\n",
       "Coefficients:\n",
       "                          Estimate Std. Error t value Pr(>|t|)    \n",
       "(Intercept)              4.454e+00  3.064e-02 145.360  < 2e-16 ***\n",
       "dat$d                   -1.701e-04  1.743e-05  -9.761  < 2e-16 ***\n",
       "sin(2 * pi * dat$d/365) -8.199e-02  2.157e-02  -3.801 0.000147 ***\n",
       "cos(2 * pi * dat$d/365)  3.527e-02  2.176e-02   1.621 0.105173    \n",
       "---\n",
       "Signif. codes:  0 '***' 0.001 '**' 0.01 '*' 0.05 '.' 0.1 ' ' 1\n",
       "\n",
       "Residual standard error: 0.8443 on 3040 degrees of freedom\n",
       "Multiple R-squared:  0.03483,\tAdjusted R-squared:  0.03388 \n",
       "F-statistic: 36.57 on 3 and 3040 DF,  p-value: < 2.2e-16\n"
      ]
     },
     "metadata": {},
     "output_type": "display_data"
    }
   ],
   "source": [
    "# fit sinusoidal trend function for logValue\n",
    "Logseason <- lm(dat$LogValue ~ dat$d + sin( 2*pi*dat$d / 365 ) + cos( 2*pi*dat$d / 365 ))\n",
    "summary(Logseason)"
   ]
  },
  {
   "cell_type": "code",
   "execution_count": 11,
   "metadata": {},
   "outputs": [
    {
     "data": {
      "text/html": [
       "<table>\n",
       "<thead><tr><th></th><th scope=col>A</th><th scope=col>B</th><th scope=col>C</th><th scope=col>D</th></tr></thead>\n",
       "<tbody>\n",
       "\t<tr><th scope=row>PM2.5 trend</th><td>109.2449   </td><td>-0.01096678</td><td>19.55467   </td><td>-3.529738  </td></tr>\n",
       "</tbody>\n",
       "</table>\n"
      ],
      "text/latex": [
       "\\begin{tabular}{r|llll}\n",
       "  & A & B & C & D\\\\\n",
       "\\hline\n",
       "\tPM2.5 trend & 109.2449    & -0.01096678 & 19.55467    & -3.529738  \\\\\n",
       "\\end{tabular}\n"
      ],
      "text/plain": [
       "            A        B           C        D        \n",
       "PM2.5 trend 109.2449 -0.01096678 19.55467 -3.529738"
      ]
     },
     "metadata": {},
     "output_type": "display_data"
    }
   ],
   "source": [
    "# calulate coefficients in the seasonal function Logvalue\n",
    "A <- season$coefficients[1]\n",
    "B <- season$coefficients[2]\n",
    "C <- sqrt(season$coefficients[3]**2 + season$coefficients[4]**2)\n",
    "D <- atan(season$coefficients[4]/season$coefficients[3])-pi\n",
    "\n",
    "# print coefficients\n",
    "coef <- data.frame(A, B, C, D)\n",
    "rownames(coef) <- 'PM2.5 trend'\n",
    "coef"
   ]
  },
  {
   "cell_type": "code",
   "execution_count": 12,
   "metadata": {},
   "outputs": [
    {
     "data": {
      "text/html": [
       "<table>\n",
       "<thead><tr><th></th><th scope=col>A</th><th scope=col>B</th><th scope=col>C</th><th scope=col>D</th></tr></thead>\n",
       "<tbody>\n",
       "\t<tr><th scope=row>PM2.5 trend</th><td>4.454081     </td><td>-0.0001701282</td><td>0.08924994   </td><td>-3.547833    </td></tr>\n",
       "</tbody>\n",
       "</table>\n"
      ],
      "text/latex": [
       "\\begin{tabular}{r|llll}\n",
       "  & A & B & C & D\\\\\n",
       "\\hline\n",
       "\tPM2.5 trend & 4.454081      & -0.0001701282 & 0.08924994    & -3.547833    \\\\\n",
       "\\end{tabular}\n"
      ],
      "text/plain": [
       "            A        B             C          D        \n",
       "PM2.5 trend 4.454081 -0.0001701282 0.08924994 -3.547833"
      ]
     },
     "metadata": {},
     "output_type": "display_data"
    }
   ],
   "source": [
    "# calulate coefficients in the seasonal function Logvalue\n",
    "A <- Logseason$coefficients[1]\n",
    "B <- Logseason$coefficients[2]\n",
    "C <- sqrt(Logseason$coefficients[3]**2 + Logseason$coefficients[4]**2)\n",
    "D <- atan(Logseason$coefficients[4]/Logseason$coefficients[3])-pi\n",
    "\n",
    "# print coefficients\n",
    "coef <- data.frame(A, B, C, D)\n",
    "rownames(coef) <- 'PM2.5 trend'\n",
    "coef"
   ]
  },
  {
   "cell_type": "markdown",
   "metadata": {},
   "source": [
    "$P_t^m = 109.89 - 0.011 t + 19.56 \\ sin\\big(\\frac{2\\pi}{365}t - 4.55\\big)$"
   ]
  },
  {
   "cell_type": "markdown",
   "metadata": {},
   "source": [
    "$P_t^m = 4.464 - 0.00017 t + 0.09 \\ sin\\big(\\frac{2\\pi}{365}t - 4.56\\big)$"
   ]
  },
  {
   "cell_type": "code",
   "execution_count": 13,
   "metadata": {},
   "outputs": [],
   "source": [
    "# add the estimated trend function to the data frame and subtract trend to deseasonalize\n",
    "dat$season <- predict(season, data.frame(dat$d))\n",
    "dat$ValSeas <- dat$Value - dat$season # deseasonalized value"
   ]
  },
  {
   "cell_type": "code",
   "execution_count": 14,
   "metadata": {},
   "outputs": [],
   "source": [
    "# add the estimated trend function to the data frame and subtract trend to deseasonalize\n",
    "dat$Logseason <- predict(Logseason, data.frame(dat$d))\n",
    "dat$LogValSeas <- dat$LogValue - dat$Logseason # deseasonalized value"
   ]
  },
  {
   "cell_type": "code",
   "execution_count": 15,
   "metadata": {},
   "outputs": [
    {
     "data": {},
     "metadata": {},
     "output_type": "display_data"
    },
    {
     "data": {
      "image/png": "[encoded data removed]",
      "text/plain": [
       "plot without title"
      ]
     },
     "metadata": {},
     "output_type": "display_data"
    }
   ],
   "source": [
    "# PM2.5 plot with trend function and PM2.5 limits equivalent to 200 and 300 AQI\n",
    "ggplot(dat, aes(x = Date)) + \n",
    "  geom_line(aes(y = Value)) + theme_bw() +\n",
    "  geom_line(aes(y = season, colour = 'season')) + xlab(\"\") + ylab(TeX(\"PM2.5 $\\\\mu/m^3$\")) +\n",
    "  theme(legend.position=\"none\") + ggtitle(\"Beijing Particulate Matter PM2.5\") +\n",
    "  geom_hline(yintercept = 150, colour = \"red4\") +\n",
    "  geom_hline(yintercept = 250, colour = \"violetred4\") +\n",
    "  theme(text = element_text(size=8))"
   ]
  },
  {
   "cell_type": "code",
   "execution_count": 16,
   "metadata": {},
   "outputs": [
    {
     "data": {},
     "metadata": {},
     "output_type": "display_data"
    },
    {
     "data": {
      "image/png": "[encoded data removed]",
      "text/plain": [
       "plot without title"
      ]
     },
     "metadata": {},
     "output_type": "display_data"
    }
   ],
   "source": [
    "# log PM2.5 plot with trend function and PM2.5 limits equivalent to 200 and 300 AQI\n",
    "ggplot(dat, aes(x = Date)) + \n",
    "  geom_line(aes(y = LogValue)) + theme_bw() +\n",
    "  geom_line(aes(y = Logseason, colour = 'season')) + xlab(\"\") + ylab(TeX(\"Log(PM2.5) $\\\\mu/m^3$\")) +\n",
    "  theme(legend.position=\"none\") + ggtitle(\"Beijing Particulate Matter PM2.5 (log)\") +\n",
    " # geom_hline(yintercept = log(150), colour = \"red4\") +\n",
    " # geom_hline(yintercept = log(250), colour = \"violetred4\") +\n",
    "  theme(text = element_text(size=8)) "
   ]
  },
  {
   "cell_type": "code",
   "execution_count": 17,
   "metadata": {},
   "outputs": [
    {
     "data": {},
     "metadata": {},
     "output_type": "display_data"
    },
    {
     "data": {
      "image/png": "[encoded data removed]",
      "text/plain": [
       "plot without title"
      ]
     },
     "metadata": {},
     "output_type": "display_data"
    }
   ],
   "source": [
    "# Plot for paper\n",
    "ggplot(dat, aes(x = Date)) +  geom_line(aes(y = Value))  + xlab(\"\") + \n",
    "ylab(TeX(\"PM2.5 $\\\\mu/m^3$\")) +  theme(legend.position=\"none\") + theme_bw() +\n",
    "theme(text = element_text(size=8))"
   ]
  },
  {
   "cell_type": "code",
   "execution_count": 18,
   "metadata": {},
   "outputs": [],
   "source": [
    "#library(zoo)\n",
    "#dat$MA <- rollmean(dat$Value_HL, k = 25, fill = NA, align = 'right')"
   ]
  },
  {
   "cell_type": "code",
   "execution_count": 19,
   "metadata": {},
   "outputs": [],
   "source": [
    "# PM2.5 plot with trend function and PM2.5 limits equivalent to 200 and 300 AQI\n",
    "#ggplot(dat, aes(x = Date)) + \n",
    "#  geom_line(aes(y = MA)) + \n",
    "#  geom_line(aes(y = season, colour = 'season')) + xlab(\"\") + ylab(\"PM2.5 micrograms/m3\") +\n",
    "#  theme(legend.position=\"none\") + ggtitle(\"Beijing Particulate Matter PM2.5\") +\n",
    "#  geom_hline(yintercept = 150, colour = \"red4\") +\n",
    "#  geom_hline(yintercept = 250, colour = \"violetred4\")"
   ]
  },
  {
   "cell_type": "code",
   "execution_count": 20,
   "metadata": {},
   "outputs": [],
   "source": [
    "# calculated daily changes in the concentration\n",
    "#dat$ConDiff <- c(0, diff(dat$Value))\n",
    "dat$ConDiff <- c(0, diff(dat$LogValue))"
   ]
  },
  {
   "cell_type": "code",
   "execution_count": 21,
   "metadata": {},
   "outputs": [
    {
     "data": {
      "image/png": "[encoded data removed]",
      "text/plain": [
       "plot without title"
      ]
     },
     "metadata": {},
     "output_type": "display_data"
    }
   ],
   "source": [
    "# plot daily changes vs normal\n",
    "p1 <- ggplot(dat, aes(x=ConDiff)) + geom_density() + theme(text = element_text(size=8))+\n",
    "stat_function(fun = dnorm, args = list(mean = mean(dat$ConDiff), sd = sd(dat$ConDiff)), colour = 'red')\n",
    "\n",
    "#p2 <- ggplot(dat, aes(x=Value)) + geom_density() +theme(text = element_text(size=8))\n",
    "p2 <- ggplot(dat, aes(x=LogValue)) + geom_density() +theme(text = element_text(size=8))\n",
    "\n",
    "grid.arrange(p1, p2, ncol = 2)"
   ]
  },
  {
   "cell_type": "markdown",
   "metadata": {},
   "source": [
    "Non-normal density for changes in concentration value, as expected. We have seen large jumps, and time varying volatility in\n",
    "the plot above. Let us try to estimate the volatility with one diffusion coefficient per month, eg. 12 of them"
   ]
  },
  {
   "cell_type": "code",
   "execution_count": 22,
   "metadata": {},
   "outputs": [
    {
     "data": {},
     "metadata": {},
     "output_type": "display_data"
    },
    {
     "data": {
      "image/png": "[encoded data removed]",
      "text/plain": [
       "plot without title"
      ]
     },
     "metadata": {},
     "output_type": "display_data"
    }
   ],
   "source": [
    "# vector for storing monthly sigma estimates\n",
    "sig <- vector()\n",
    "\n",
    "# calculation\n",
    "for (i in 1:12){\n",
    "  sig[i] <- sqrt(sum(subset(dat, Month==i)$ConDiff**2)/length(subset(dat, Month==i)$ConDiff))\n",
    "}\n",
    "\n",
    "# report as data frame\n",
    "sig_dat <- data.frame(Month = 1:12, Sigma =sig)\n",
    "ggplot(sig_dat, aes(x = Month, y = Sigma)) + geom_line() + scale_x_continuous(breaks=1:12) +\n",
    "theme(text = element_text(size=8))"
   ]
  },
  {
   "cell_type": "code",
   "execution_count": 23,
   "metadata": {},
   "outputs": [
    {
     "data": {
      "text/html": [
       "<table>\n",
       "<thead><tr><th scope=col>Month</th><th scope=col>Sigma</th></tr></thead>\n",
       "<tbody>\n",
       "\t<tr><td> 1       </td><td>0.9140397</td></tr>\n",
       "\t<tr><td> 2       </td><td>0.9707570</td></tr>\n",
       "\t<tr><td> 3       </td><td>0.9165552</td></tr>\n",
       "\t<tr><td> 4       </td><td>0.7455077</td></tr>\n",
       "\t<tr><td> 5       </td><td>0.6240558</td></tr>\n",
       "\t<tr><td> 6       </td><td>0.6435556</td></tr>\n",
       "\t<tr><td> 7       </td><td>0.5979342</td></tr>\n",
       "\t<tr><td> 8       </td><td>0.6394162</td></tr>\n",
       "\t<tr><td> 9       </td><td>0.7866877</td></tr>\n",
       "\t<tr><td>10       </td><td>0.9242573</td></tr>\n",
       "\t<tr><td>11       </td><td>0.8963360</td></tr>\n",
       "\t<tr><td>12       </td><td>0.9865671</td></tr>\n",
       "</tbody>\n",
       "</table>\n"
      ],
      "text/latex": [
       "\\begin{tabular}{r|ll}\n",
       " Month & Sigma\\\\\n",
       "\\hline\n",
       "\t  1        & 0.9140397\\\\\n",
       "\t  2        & 0.9707570\\\\\n",
       "\t  3        & 0.9165552\\\\\n",
       "\t  4        & 0.7455077\\\\\n",
       "\t  5        & 0.6240558\\\\\n",
       "\t  6        & 0.6435556\\\\\n",
       "\t  7        & 0.5979342\\\\\n",
       "\t  8        & 0.6394162\\\\\n",
       "\t  9        & 0.7866877\\\\\n",
       "\t 10        & 0.9242573\\\\\n",
       "\t 11        & 0.8963360\\\\\n",
       "\t 12        & 0.9865671\\\\\n",
       "\\end{tabular}\n"
      ],
      "text/plain": [
       "   Month Sigma    \n",
       "1   1    0.9140397\n",
       "2   2    0.9707570\n",
       "3   3    0.9165552\n",
       "4   4    0.7455077\n",
       "5   5    0.6240558\n",
       "6   6    0.6435556\n",
       "7   7    0.5979342\n",
       "8   8    0.6394162\n",
       "9   9    0.7866877\n",
       "10 10    0.9242573\n",
       "11 11    0.8963360\n",
       "12 12    0.9865671"
      ]
     },
     "metadata": {},
     "output_type": "display_data"
    }
   ],
   "source": [
    "sig_dat"
   ]
  },
  {
   "cell_type": "code",
   "execution_count": 25,
   "metadata": {},
   "outputs": [
    {
     "data": {},
     "metadata": {},
     "output_type": "display_data"
    },
    {
     "data": {
      "image/png": "[encoded data removed]",
      "text/plain": [
       "plot without title"
      ]
     },
     "metadata": {},
     "output_type": "display_data"
    }
   ],
   "source": [
    "# plot detrended PM2.5 = PM2.5 - season\n",
    "ggplot(dat, aes(x = Date)) + \n",
    "  geom_line(aes(y = LogValSeas)) + theme_bw() +\n",
    "  xlab(\"\") + ylab(TeX(\"deseasonalized log PM2.5 $\\\\mu/m^3$\")) +\n",
    "  theme(legend.position=\"none\") + \n",
    "  #ggtitle(\"Beijing Particulate Matter PM2.5 - deseasonalized\") +\n",
    "  theme(text = element_text(size=8))"
   ]
  },
  {
   "cell_type": "markdown",
   "metadata": {},
   "source": [
    "First basic model for the deseasonalized concentration: Ornstein-Uhlenbeck"
   ]
  },
  {
   "cell_type": "code",
   "execution_count": 26,
   "metadata": {},
   "outputs": [
    {
     "data": {
      "text/html": [
       "<dl class=dl-horizontal>\n",
       "\t<dt>theta1</dt>\n",
       "\t\t<dd>0</dd>\n",
       "\t<dt>theta2</dt>\n",
       "\t\t<dd>0.623247079964545</dd>\n",
       "\t<dt>theta3</dt>\n",
       "\t\t<dd>0.942062081941158</dd>\n",
       "</dl>\n"
      ],
      "text/latex": [
       "\\begin{description*}\n",
       "\\item[theta1] 0\n",
       "\\item[theta2] 0.623247079964545\n",
       "\\item[theta3] 0.942062081941158\n",
       "\\end{description*}\n"
      ],
      "text/markdown": [
       "theta1\n",
       ":   0theta2\n",
       ":   0.623247079964545theta3\n",
       ":   0.942062081941158\n",
       "\n"
      ],
      "text/plain": [
       "   theta1    theta2    theta3 \n",
       "0.0000000 0.6232471 0.9420621 "
      ]
     },
     "metadata": {},
     "output_type": "display_data"
    }
   ],
   "source": [
    "# likelihood function\n",
    "ou.lik <- function(x) {\n",
    "  function(theta1,theta2,theta3) {\n",
    "    n <- length(x)\n",
    "    dt <- deltat(x)\n",
    "    -sum(dcOU(x=x[2:n], Dt=dt, x0=x[1:(n-1)],\n",
    "              theta=c(theta1,theta2,theta3), log=TRUE))\n",
    "  }\n",
    "}\n",
    "\n",
    "# fit via maximum likelihood\n",
    "ou.fit <- mle(ou.lik(dat$LogValSeas),\n",
    "            start=list(theta1=0,theta2=0.5,theta3=0.2),\n",
    "            method=\"L-BFGS-B\",lower=c(0,1e-5,1e-3), upper=c(1,1,1))\n",
    "\n",
    "# estimate parameters\n",
    "ou.coe <- coef(ou.fit)\n",
    "ou.coe"
   ]
  },
  {
   "cell_type": "code",
   "execution_count": 29,
   "metadata": {},
   "outputs": [],
   "source": [
    "dat$ou_sim <- sde.sim(0,dim(dat)[1],N=dim(dat)[1]-1,\n",
    "  drift = expression(ou.coe[1]-ou.coe[2]*x),\n",
    "  sigma = expression(ou.coe[3]),sigma.x = expression(0))"
   ]
  },
  {
   "cell_type": "code",
   "execution_count": 31,
   "metadata": {},
   "outputs": [],
   "source": [
    "dat$p_est <- exp(dat$Logseason + dat$ou_sim)"
   ]
  },
  {
   "cell_type": "code",
   "execution_count": 32,
   "metadata": {},
   "outputs": [
    {
     "data": {},
     "metadata": {},
     "output_type": "display_data"
    },
    {
     "data": {
      "image/png": "[encoded data removed]",
      "text/plain": [
       "plot without title"
      ]
     },
     "metadata": {},
     "output_type": "display_data"
    }
   ],
   "source": [
    "# PM2.5 plot with trend function and PM2.5 limits equivalent to 200 and 300 AQI\n",
    "ggplot(dat, aes(x = Date)) + \n",
    "  geom_line(aes(y = Value)) + theme_bw() +\n",
    "  geom_line(aes(y = season, colour = 'season')) + xlab(\"\") + ylab(TeX(\"PM2.5 $\\\\mu/m^3$\")) +\n",
    "  theme(legend.position=\"none\") + ggtitle(\"Beijing Particulate Matter PM2.5\") +\n",
    "  geom_hline(yintercept = 150, colour = \"red4\") +\n",
    "  geom_hline(yintercept = 250, colour = \"violetred4\") +\n",
    "  theme(text = element_text(size=8))"
   ]
  },
  {
   "cell_type": "code",
   "execution_count": 33,
   "metadata": {},
   "outputs": [
    {
     "name": "stderr",
     "output_type": "stream",
     "text": [
      "Don't know how to automatically pick scale for object of type ts. Defaulting to continuous.\n"
     ]
    },
    {
     "data": {},
     "metadata": {},
     "output_type": "display_data"
    },
    {
     "data": {
      "image/png": "[encoded data removed]",
      "text/plain": [
       "plot without title"
      ]
     },
     "metadata": {},
     "output_type": "display_data"
    }
   ],
   "source": [
    "# PM2.5 plot with trend function and PM2.5 limits equivalent to 200 and 300 AQI\n",
    "ggplot(dat, aes(x = Date)) + \n",
    "  geom_line(aes(y = p_est)) + theme_bw() +\n",
    "  geom_line(aes(y = season, colour = 'season')) + xlab(\"\") + ylab(TeX(\"PM2.5 $\\\\mu/m^3$\")) +\n",
    "  theme(legend.position=\"none\") + ggtitle(\"Beijing Particulate Matter PM2.5\") +\n",
    "  geom_hline(yintercept = 150, colour = \"red4\") +\n",
    "  geom_hline(yintercept = 250, colour = \"violetred4\") +\n",
    "  theme(text = element_text(size=8))"
   ]
  },
  {
   "cell_type": "code",
   "execution_count": 52,
   "metadata": {
    "collapsed": true
   },
   "outputs": [],
   "source": [
    "# fit sinusoidal trend function to AQI\n",
    "#aqi_season <- lm(dat$AQI ~ dat$d + sin( 2*pi*dat$d / 365 ) + cos( 2*pi*dat$d / 365 ))\n",
    "#dat$aqi_season <- predict(aqi_season, data.frame(dat$d))"
   ]
  },
  {
   "cell_type": "code",
   "execution_count": 182,
   "metadata": {
    "scrolled": false
   },
   "outputs": [],
   "source": [
    "# AQI plot with trend function and 200 and 300 AQI limits\n",
    "#ggplot(dat, aes(x = Date)) + \n",
    "#  geom_line(aes(y = AQI)) + \n",
    "#  geom_line(aes(y = aqi_season, colour = 'aqi_season')) + \n",
    "#  xlab(\"\") + ylab(\"US EPA AQI\") +\n",
    "#  theme(legend.position=\"none\") + ggtitle(\"Beijing Particulate Matter PM2.5 AQI\") +\n",
    "#  geom_hline(yintercept = 200, colour = \"red4\") +\n",
    "#  geom_hline(yintercept = 300, colour = \"violetred4\")"
   ]
  },
  {
   "cell_type": "markdown",
   "metadata": {},
   "source": [
    "We will model the underlying processes for the PAS index, but first we will apply simple burn analysis to investigate\n",
    "historical contract values for the limit $AQI = 300$ for monthly contracts in the period 2012-2015."
   ]
  },
  {
   "cell_type": "markdown",
   "metadata": {},
   "source": [
    "## Burn analysis"
   ]
  },
  {
   "cell_type": "code",
   "execution_count": 23,
   "metadata": {},
   "outputs": [],
   "source": [
    "# calculate monthly pas scores with the sourced calc_pas function, store in burn table and reshape\n",
    "#burn <- setDT(dat)[, .(PAS = calc_pas(AQI)$PAS), by = .(Year, Month)]\n",
    "#burn <- reshape(burn, idvar = \"Month\", timevar = \"Year\", direction = \"wide\")\n",
    "#print(burn)"
   ]
  },
  {
   "cell_type": "markdown",
   "metadata": {},
   "source": [
    "We see clearly that the extreme pollution is a seasonal problem during late fall/ winter. In the following, we will develop a \n",
    "stochastic model for the PM2.5 and the AQI. This will be the basis for pricing futures and options on futures."
   ]
  },
  {
   "cell_type": "markdown",
   "metadata": {},
   "source": [
    "## Modelling the PM2.5 concentration and the AQI"
   ]
  },
  {
   "cell_type": "markdown",
   "metadata": {},
   "source": [
    "The PM2.5 and the AQI will be modeled with an Ornstein-Uhlenbeck process with a deterministic seasonal mean function, ref above"
   ]
  },
  {
   "cell_type": "markdown",
   "metadata": {},
   "source": [
    "## Pricing PAS index futures"
   ]
  },
  {
   "cell_type": "markdown",
   "metadata": {
    "nbpresent": {
     "id": "fea298f2-a118-4dfc-8792-60bd237c7c3e"
    }
   },
   "source": [
    "The time $t$ value of a long position in a futures contract settled at $T_2$:\n",
    "\n",
    "\\begin{equation}\n",
    "e^{-r(T_2-t)}[PAS(T_1, T_2)-F_{PAS}(t, T_1, T_2)]\n",
    "\\end{equation}"
   ]
  },
  {
   "cell_type": "markdown",
   "metadata": {},
   "source": [
    "## Pricing European options on PAS index futures"
   ]
  },
  {
   "cell_type": "code",
   "execution_count": null,
   "metadata": {
    "collapsed": true
   },
   "outputs": [],
   "source": []
  }
 ],
 "metadata": {
  "anaconda-cloud": {},
  "kernelspec": {
   "display_name": "R",
   "language": "R",
   "name": "ir"
  },
  "language_info": {
   "codemirror_mode": "r",
   "file_extension": ".r",
   "mimetype": "text/x-r-source",
   "name": "R",
   "pygments_lexer": "r",
   "version": "3.3.2"
  },
  "nbpresent": {
   "slides": {
    "049b2c95-bdc2-48d8-b757-0cfb32de8790": {
     "id": "049b2c95-bdc2-48d8-b757-0cfb32de8790",
     "prev": "b9b12621-693c-4228-8caa-84493e5c6ba4",
     "regions": {
      "9cebac3a-1161-43d8-bf48-5d905e89a1bc": {
       "attrs": {
        "height": 0.8,
        "width": 0.8,
        "x": 0.1,
        "y": 0.1
       },
       "content": {
        "cell": "b0f89443-3151-4d92-9303-800bd9bffd1a",
        "part": "whole"
       },
       "id": "9cebac3a-1161-43d8-bf48-5d905e89a1bc"
      }
     }
    },
    "10e5f2e3-3a0a-4e91-87e1-504b0bc666c9": {
     "id": "10e5f2e3-3a0a-4e91-87e1-504b0bc666c9",
     "prev": "fd08db65-09c9-4a80-88d8-1c1907971270",
     "regions": {
      "2a6605b8-3672-400d-b3cd-0d3cd49e9a98": {
       "attrs": {
        "height": 0.8,
        "width": 0.8,
        "x": 0.1,
        "y": 0.1
       },
       "content": {
        "cell": "f25071d2-055a-495c-a15d-2e1a14cc82f8",
        "part": "whole"
       },
       "id": "2a6605b8-3672-400d-b3cd-0d3cd49e9a98"
      }
     }
    },
    "18ce913d-0fcc-4e7c-b8d4-571730d119db": {
     "id": "18ce913d-0fcc-4e7c-b8d4-571730d119db",
     "prev": "2c14d4c0-8411-4a97-bf42-9f8c3df9abcb",
     "regions": {
      "7bfbd8d6-d9d3-4480-a4bf-6dafa65e0390": {
       "attrs": {
        "height": 0.8,
        "width": 0.8,
        "x": 0.1,
        "y": 0.1
       },
       "content": {
        "cell": "5137462b-d451-4f58-83da-acf79c27c3db",
        "part": "whole"
       },
       "id": "7bfbd8d6-d9d3-4480-a4bf-6dafa65e0390"
      }
     }
    },
    "294cbc98-673e-4bd0-8563-99f2d8deb851": {
     "id": "294cbc98-673e-4bd0-8563-99f2d8deb851",
     "prev": "6dfa77e9-a2dc-4116-84a8-678fe6be48f6",
     "regions": {
      "eb842053-b240-4c93-995d-f699f8046a63": {
       "attrs": {
        "height": 0.8,
        "width": 0.8,
        "x": 0.1,
        "y": 0.1
       },
       "content": {
        "cell": "215a6e2e-eafd-4cf4-8b26-a9c6f51ad415",
        "part": "whole"
       },
       "id": "eb842053-b240-4c93-995d-f699f8046a63"
      }
     }
    },
    "29fbb205-8dca-4fb3-b673-00ee44ace226": {
     "id": "29fbb205-8dca-4fb3-b673-00ee44ace226",
     "prev": "a8d5b3b4-f929-43e0-a2bd-2f789e105316",
     "regions": {
      "c18a1e79-965d-410f-a6c1-b8af4fb6349a": {
       "attrs": {
        "height": 0.8,
        "width": 0.8,
        "x": 0.1,
        "y": 0.1
       },
       "content": {
        "cell": "ac4ff4ad-eed1-468e-92e4-70f012ef1b9d",
        "part": "whole"
       },
       "id": "c18a1e79-965d-410f-a6c1-b8af4fb6349a"
      }
     }
    },
    "2c14d4c0-8411-4a97-bf42-9f8c3df9abcb": {
     "id": "2c14d4c0-8411-4a97-bf42-9f8c3df9abcb",
     "prev": "4b33bb09-59e9-4643-94d1-8d309931d12c",
     "regions": {
      "2ca1b40d-41a4-48e7-aacd-7ab68ca0bf08": {
       "attrs": {
        "height": 0.8,
        "width": 0.8,
        "x": 0.1,
        "y": 0.1
       },
       "content": {
        "cell": "9cbb1384-e8c7-434d-8195-729f6b2b5959",
        "part": "whole"
       },
       "id": "2ca1b40d-41a4-48e7-aacd-7ab68ca0bf08"
      }
     }
    },
    "355e35ed-46ec-460e-aef0-436f1ea38359": {
     "id": "355e35ed-46ec-460e-aef0-436f1ea38359",
     "prev": "294cbc98-673e-4bd0-8563-99f2d8deb851",
     "regions": {
      "f5c88262-c6a0-4286-baeb-31ba0cb673a0": {
       "attrs": {
        "height": 0.8,
        "width": 0.8,
        "x": 0.1,
        "y": 0.1
       },
       "content": {
        "cell": "ae707a9d-ae57-48a3-af04-57079ec408b5",
        "part": "whole"
       },
       "id": "f5c88262-c6a0-4286-baeb-31ba0cb673a0"
      }
     }
    },
    "4584e19e-6c57-41ec-8b89-8882c018eb28": {
     "id": "4584e19e-6c57-41ec-8b89-8882c018eb28",
     "prev": "b2acfd3a-306b-45b5-887b-80602b2a71e6",
     "regions": {
      "e046ff21-7856-4190-9585-4e7399a33d2e": {
       "attrs": {
        "height": 0.8,
        "width": 0.8,
        "x": 0.1,
        "y": 0.1
       },
       "content": {
        "cell": "e58284df-7e8f-41ea-b77e-1c38c6fb1166",
        "part": "whole"
       },
       "id": "e046ff21-7856-4190-9585-4e7399a33d2e"
      }
     }
    },
    "462d5111-a063-4d5a-b695-e14267cf7d5b": {
     "id": "462d5111-a063-4d5a-b695-e14267cf7d5b",
     "prev": "4f622ec7-10c6-4d4e-8eb6-7c86bfa297bd",
     "regions": {
      "6ecdebd7-bfd5-4380-bf22-8e640ad36019": {
       "attrs": {
        "height": 0.8,
        "width": 0.8,
        "x": 0.1,
        "y": 0.1
       },
       "content": {
        "cell": "a921cc83-260a-4e14-bd69-ae980d750473",
        "part": "whole"
       },
       "id": "6ecdebd7-bfd5-4380-bf22-8e640ad36019"
      }
     }
    },
    "4b33bb09-59e9-4643-94d1-8d309931d12c": {
     "id": "4b33bb09-59e9-4643-94d1-8d309931d12c",
     "prev": "6818a1ff-951d-43a0-85f2-3751a33d3b38",
     "regions": {
      "d5b9c22a-2b53-4777-afb9-bffdbf1f122f": {
       "attrs": {
        "height": 0.8,
        "width": 0.8,
        "x": 0.1,
        "y": 0.1
       },
       "content": {
        "cell": "cf66c9df-d304-48ef-8744-7eee14404a99",
        "part": "whole"
       },
       "id": "d5b9c22a-2b53-4777-afb9-bffdbf1f122f"
      }
     }
    },
    "4be063ea-19db-473f-8dda-8e26f1baa99c": {
     "id": "4be063ea-19db-473f-8dda-8e26f1baa99c",
     "prev": "049b2c95-bdc2-48d8-b757-0cfb32de8790",
     "regions": {
      "23348dc1-4115-4673-89fe-a6e607263e3f": {
       "attrs": {
        "height": 0.8,
        "width": 0.8,
        "x": 0.1,
        "y": 0.1
       },
       "content": {
        "cell": "954e4f2c-2998-4967-8b97-5226a4c05558",
        "part": "whole"
       },
       "id": "23348dc1-4115-4673-89fe-a6e607263e3f"
      }
     }
    },
    "4f622ec7-10c6-4d4e-8eb6-7c86bfa297bd": {
     "id": "4f622ec7-10c6-4d4e-8eb6-7c86bfa297bd",
     "prev": "8c060f01-5137-4089-8920-65c092f78111",
     "regions": {
      "da5894fa-045f-4502-9dc1-5c4e4717691e": {
       "attrs": {
        "height": 0.8,
        "width": 0.8,
        "x": 0.1,
        "y": 0.1
       },
       "content": {
        "cell": "21b563a1-3400-439a-8ead-75c7ffcb0e51",
        "part": "whole"
       },
       "id": "da5894fa-045f-4502-9dc1-5c4e4717691e"
      }
     }
    },
    "67c779ee-419a-4824-8ee9-d5561491ce22": {
     "id": "67c779ee-419a-4824-8ee9-d5561491ce22",
     "prev": "835ebf1a-c835-46b8-a56d-e4da6164ef39",
     "regions": {
      "f2cd30cb-51d0-4695-9cee-c9dd78ba5cc7": {
       "attrs": {
        "height": 0.8,
        "width": 0.8,
        "x": 0.1,
        "y": 0.1
       },
       "content": {
        "cell": "c91b611b-4492-4357-8b76-87633974cdf6",
        "part": "whole"
       },
       "id": "f2cd30cb-51d0-4695-9cee-c9dd78ba5cc7"
      }
     }
    },
    "6818a1ff-951d-43a0-85f2-3751a33d3b38": {
     "id": "6818a1ff-951d-43a0-85f2-3751a33d3b38",
     "prev": "dd4e43a9-0c9e-4de8-8539-c648dc5b3b1e",
     "regions": {
      "21a803dc-2508-4c58-8323-450950007ab0": {
       "attrs": {
        "height": 0.8,
        "width": 0.8,
        "x": 0.1,
        "y": 0.1
       },
       "content": {
        "cell": "101e6ab1-b9a9-437d-b2cb-87eaba580801",
        "part": "whole"
       },
       "id": "21a803dc-2508-4c58-8323-450950007ab0"
      }
     }
    },
    "6dfa77e9-a2dc-4116-84a8-678fe6be48f6": {
     "id": "6dfa77e9-a2dc-4116-84a8-678fe6be48f6",
     "prev": "4584e19e-6c57-41ec-8b89-8882c018eb28",
     "regions": {
      "04e80cd2-b125-4419-9868-1066a3d43e1f": {
       "attrs": {
        "height": 0.8,
        "width": 0.8,
        "x": 0.1,
        "y": 0.1
       },
       "content": {
        "cell": "8ec0a825-77d1-4b90-a597-f81591252d5c",
        "part": "whole"
       },
       "id": "04e80cd2-b125-4419-9868-1066a3d43e1f"
      }
     }
    },
    "835ebf1a-c835-46b8-a56d-e4da6164ef39": {
     "id": "835ebf1a-c835-46b8-a56d-e4da6164ef39",
     "prev": null,
     "regions": {
      "47646241-bb36-40f4-966c-8110d6ed1bc5": {
       "attrs": {
        "height": 0.8,
        "width": 0.8,
        "x": 0.1,
        "y": 0.1
       },
       "content": {
        "cell": "65e0fe36-ce8e-42ab-a616-b1607feeec1b",
        "part": "whole"
       },
       "id": "47646241-bb36-40f4-966c-8110d6ed1bc5"
      }
     }
    },
    "8c060f01-5137-4089-8920-65c092f78111": {
     "id": "8c060f01-5137-4089-8920-65c092f78111",
     "prev": "a6f711f6-07a4-487d-9588-bbac315f9f15",
     "regions": {
      "941e3bfe-83e0-4c9b-a515-d8ec1d1ea07f": {
       "attrs": {
        "height": 0.8,
        "width": 0.8,
        "x": 0.1,
        "y": 0.1
       },
       "content": {
        "cell": "34c92624-009b-4fbc-bf69-0b7368a6ad9f",
        "part": "whole"
       },
       "id": "941e3bfe-83e0-4c9b-a515-d8ec1d1ea07f"
      }
     }
    },
    "99bc1582-c16b-44c1-9bb9-4f2524458e62": {
     "id": "99bc1582-c16b-44c1-9bb9-4f2524458e62",
     "prev": "4be063ea-19db-473f-8dda-8e26f1baa99c",
     "regions": {
      "aa16a661-d6f4-4104-adcc-4e44a12e46b4": {
       "attrs": {
        "height": 0.8,
        "width": 0.8,
        "x": 0.1,
        "y": 0.1
       },
       "content": {
        "cell": "35971e27-e09e-4be3-9cce-256b5e0f3a97",
        "part": "whole"
       },
       "id": "aa16a661-d6f4-4104-adcc-4e44a12e46b4"
      }
     }
    },
    "a6f711f6-07a4-487d-9588-bbac315f9f15": {
     "id": "a6f711f6-07a4-487d-9588-bbac315f9f15",
     "prev": "10e5f2e3-3a0a-4e91-87e1-504b0bc666c9",
     "regions": {
      "74178ae7-101b-43ed-8a80-5f7f2ed38db2": {
       "attrs": {
        "height": 0.8,
        "width": 0.8,
        "x": 0.1,
        "y": 0.1
       },
       "content": {
        "cell": "9684dc6c-1fa4-42f9-9dd8-af2466cc8e0f",
        "part": "whole"
       },
       "id": "74178ae7-101b-43ed-8a80-5f7f2ed38db2"
      }
     }
    },
    "a8d5b3b4-f929-43e0-a2bd-2f789e105316": {
     "id": "a8d5b3b4-f929-43e0-a2bd-2f789e105316",
     "prev": "355e35ed-46ec-460e-aef0-436f1ea38359",
     "regions": {
      "64d7cd38-98bd-4103-a0ed-80e14114e477": {
       "attrs": {
        "height": 0.8,
        "width": 0.8,
        "x": 0.1,
        "y": 0.1
       },
       "content": {
        "cell": "107c6d16-626b-41a2-bc13-498b16f46a1f",
        "part": "whole"
       },
       "id": "64d7cd38-98bd-4103-a0ed-80e14114e477"
      }
     }
    },
    "ac54217a-ddde-429b-b56a-04ac42b8d5cd": {
     "id": "ac54217a-ddde-429b-b56a-04ac42b8d5cd",
     "prev": "99bc1582-c16b-44c1-9bb9-4f2524458e62",
     "regions": {
      "1d1b27f1-c697-4a09-9b70-93e3f53d0dc0": {
       "attrs": {
        "height": 0.8,
        "width": 0.8,
        "x": 0.1,
        "y": 0.1
       },
       "content": {
        "cell": "fea298f2-a118-4dfc-8792-60bd237c7c3e",
        "part": "whole"
       },
       "id": "1d1b27f1-c697-4a09-9b70-93e3f53d0dc0"
      }
     }
    },
    "b2acfd3a-306b-45b5-887b-80602b2a71e6": {
     "id": "b2acfd3a-306b-45b5-887b-80602b2a71e6",
     "prev": "67c779ee-419a-4824-8ee9-d5561491ce22",
     "regions": {
      "c5942105-c582-4bec-9226-55a59fc4d3fe": {
       "attrs": {
        "height": 0.8,
        "width": 0.8,
        "x": 0.1,
        "y": 0.1
       },
       "content": {
        "cell": "0c5d62a4-8d16-4ae3-8974-056fdb690a31",
        "part": "whole"
       },
       "id": "c5942105-c582-4bec-9226-55a59fc4d3fe"
      }
     }
    },
    "b9b12621-693c-4228-8caa-84493e5c6ba4": {
     "id": "b9b12621-693c-4228-8caa-84493e5c6ba4",
     "prev": "18ce913d-0fcc-4e7c-b8d4-571730d119db",
     "regions": {
      "cdde48a0-a5c7-42e8-acfa-0ad1c21cf9a2": {
       "attrs": {
        "height": 0.8,
        "width": 0.8,
        "x": 0.1,
        "y": 0.1
       },
       "content": {
        "cell": "955ed1d7-c996-431d-997d-511397ff6496",
        "part": "whole"
       },
       "id": "cdde48a0-a5c7-42e8-acfa-0ad1c21cf9a2"
      }
     }
    },
    "dd4e43a9-0c9e-4de8-8539-c648dc5b3b1e": {
     "id": "dd4e43a9-0c9e-4de8-8539-c648dc5b3b1e",
     "prev": "29fbb205-8dca-4fb3-b673-00ee44ace226",
     "regions": {
      "4fd920c1-d408-4b72-bcb9-3c5acb6eb0f9": {
       "attrs": {
        "height": 0.8,
        "width": 0.8,
        "x": 0.1,
        "y": 0.1
       },
       "content": {
        "cell": "2979d7bb-ffde-4bb9-af1e-a6349c557179",
        "part": "whole"
       },
       "id": "4fd920c1-d408-4b72-bcb9-3c5acb6eb0f9"
      }
     }
    },
    "f594e824-7999-426b-a464-c5a012ed399b": {
     "id": "f594e824-7999-426b-a464-c5a012ed399b",
     "prev": "462d5111-a063-4d5a-b695-e14267cf7d5b",
     "regions": {
      "b384b7da-76a0-46f3-a4c9-e4e612e117bd": {
       "attrs": {
        "height": 0.8,
        "width": 0.8,
        "x": 0.1,
        "y": 0.1
       },
       "content": {
        "cell": "a6bd97d0-398d-47cc-9e14-85859dfb8f67",
        "part": "whole"
       },
       "id": "b384b7da-76a0-46f3-a4c9-e4e612e117bd"
      }
     }
    },
    "fd08db65-09c9-4a80-88d8-1c1907971270": {
     "id": "fd08db65-09c9-4a80-88d8-1c1907971270",
     "prev": "ac54217a-ddde-429b-b56a-04ac42b8d5cd",
     "regions": {
      "16f9a05b-68c8-462f-91d1-e380a77ef6cd": {
       "attrs": {
        "height": 0.8,
        "width": 0.8,
        "x": 0.1,
        "y": 0.1
       },
       "content": {
        "cell": "dea9191b-5227-43a1-adc1-4651e397022d",
        "part": "whole"
       },
       "id": "16f9a05b-68c8-462f-91d1-e380a77ef6cd"
      }
     }
    }
   },
   "themes": {}
  }
 },
 "nbformat": 4,
 "nbformat_minor": 1
}
